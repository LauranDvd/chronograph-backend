{
 "cells": [
  {
   "metadata": {
    "ExecuteTime": {
     "end_time": "2025-05-07T16:26:25.197579Z",
     "start_time": "2025-05-07T16:26:16.860425Z"
    }
   },
   "cell_type": "code",
   "source": [
    "from peft import LoraConfig, get_peft_model, prepare_model_for_kbit_training\n",
    "from transformers import AutoModelForCausalLM, AutoTokenizer, BitsAndBytesConfig, TrainingArguments\n",
    "import torch"
   ],
   "id": "fbc121e30a2defb3",
   "outputs": [
    {
     "name": "stderr",
     "output_type": "stream",
     "text": [
      "D:\\Programs\\Anaconda\\envs\\LLMCourseEnv\\Lib\\site-packages\\tqdm\\auto.py:21: TqdmWarning: IProgress not found. Please update jupyter and ipywidgets. See https://ipywidgets.readthedocs.io/en/stable/user_install.html\n",
      "  from .autonotebook import tqdm as notebook_tqdm\n"
     ]
    }
   ],
   "execution_count": 1
  },
  {
   "metadata": {
    "ExecuteTime": {
     "end_time": "2025-05-07T16:26:25.213168Z",
     "start_time": "2025-05-07T16:26:25.206202Z"
    }
   },
   "cell_type": "code",
   "source": [
    "def load_model_quantized(model_name=\"google/gemma-3-1b-it\", quant=4):\n",
    "    \"\"\"\n",
    "    Load gemma quantized with explicit device mapping\n",
    "    \"\"\"\n",
    "    # Get current CUDA device index\n",
    "    cuda_device = torch.cuda.current_device()\n",
    "    \n",
    "    # Create explicit device map to current device\n",
    "    device_map = {\"\": cuda_device}  # Map all modules to current device\n",
    "    \n",
    "    if quant == 4:\n",
    "        quantization_config = BitsAndBytesConfig(\n",
    "            load_in_4bit=True,\n",
    "            bnb_4bit_compute_dtype=torch.float16,\n",
    "            bnb_4bit_quant_type=\"nf4\",\n",
    "            bnb_4bit_use_double_quant=True,\n",
    "            llm_int8_enable_fp32_cpu_offload=True,\n",
    "        \n",
    "        )\n",
    "        \n",
    "        model = AutoModelForCausalLM.from_pretrained(\n",
    "            model_name,\n",
    "            quantization_config=quantization_config,\n",
    "            device_map=device_map,  # Use explicit device map\n",
    "            offload_folder=\"offload\",\n",
    "            attn_implementation=\"eager\"\n",
    "        )\n",
    "        \n",
    "    elif quant == 8:\n",
    "        quantization_config = BitsAndBytesConfig(\n",
    "            load_in_8bit=True\n",
    "        )\n",
    "        \n",
    "        model = AutoModelForCausalLM.from_pretrained(\n",
    "            model_name,\n",
    "            quantization_config=quantization_config,\n",
    "            device_map=device_map  # Use explicit device map\n",
    "        )\n",
    "        \n",
    "    elif quant == 16:\n",
    "        model = AutoModelForCausalLM.from_pretrained(\n",
    "            model_name,\n",
    "            torch_dtype=torch.float16,\n",
    "            device_map=device_map  # Use explicit device map\n",
    "        )\n",
    "        \n",
    "    elif quant == 32:\n",
    "        model = AutoModelForCausalLM.from_pretrained(\n",
    "            model_name,\n",
    "            torch_dtype=torch.float32,\n",
    "            device_map=device_map  # Use explicit device map\n",
    "        )\n",
    "        \n",
    "    else:\n",
    "        raise ValueError(\"Number has to be 4, 8, 16 or 32\")\n",
    "    \n",
    "    return model"
   ],
   "id": "777d21bfd40d21ba",
   "outputs": [],
   "execution_count": 2
  },
  {
   "metadata": {
    "ExecuteTime": {
     "end_time": "2025-05-07T16:26:25.226958Z",
     "start_time": "2025-05-07T16:26:25.216877Z"
    }
   },
   "cell_type": "code",
   "source": [
    "def setup_model_With_lora(model_name=\"google/gemma-3-1b-it\",quant=4,rank=16):\n",
    "    \"\"\"\n",
    "        Setup model with LoRA config . \n",
    "        Rank = dimensionality of the matrices in adaption process\n",
    "    :param quant: 4,8,16,32\n",
    "    :param model: model used\n",
    "    :param rank: if quantized \n",
    "    :return: model\n",
    "    \"\"\"\n",
    "    \n",
    "    model=load_model_quantized(model_name,quant)\n",
    "    tokenizer = AutoTokenizer.from_pretrained(model_name)\n",
    "    tokenizer.pad_token = tokenizer.eos_token\n",
    "    \n",
    "    # if quant is 4 or 8 i need to specify it for training\n",
    "    if quant<=8:\n",
    "        model=prepare_model_for_kbit_training(model)\n",
    "    \n",
    "    lora_config=LoraConfig(\n",
    "        r=rank,\n",
    "        lora_alpha=rank*2, # scaling -> apparently works best most times when double the rank\n",
    "        target_modules=[\"q_proj\", \"v_proj\"],\n",
    "        lora_dropout=0.05,\n",
    "        bias=\"none\",\n",
    "        task_type=\"CAUSAL_LM\", # or QUESTION_ANS -> to look more into it . Gemma is CAUSAL_LM\n",
    "    )\n",
    "    \n",
    "    model=get_peft_model(model,lora_config)\n",
    "    \n",
    "    # for debugging print params\n",
    "    model.print_trainable_parameters()\n",
    "    return model,tokenizer\n",
    "    "
   ],
   "id": "b71710c3b6505087",
   "outputs": [],
   "execution_count": 3
  },
  {
   "metadata": {
    "ExecuteTime": {
     "end_time": "2025-05-07T16:26:25.732935Z",
     "start_time": "2025-05-07T16:26:25.226958Z"
    }
   },
   "cell_type": "code",
   "source": [
    "from TrainingDataset import TrainingDataset\n",
    "from transformers import Trainer\n",
    "from sklearn.model_selection import train_test_split\n",
    "\n",
    "def prepare_historical_datasets(data_examples, tokenizer, test_size=0.1, val_size=0.1):\n",
    "    print(f\"Preparing datasets with {len(data_examples)} examples\")\n",
    "    # First split off the test set\n",
    "    train_val_data, test_data = train_test_split(\n",
    "        data_examples, \n",
    "        test_size=test_size, \n",
    "        random_state=42\n",
    "    )\n",
    "    \n",
    "    val_size_adjusted = val_size / (1 - test_size)\n",
    "    train_data, val_data = train_test_split(\n",
    "        train_val_data, \n",
    "        test_size=val_size_adjusted, \n",
    "        random_state=42\n",
    "    )\n",
    "    \n",
    "    print(f\"Data split: {len(train_data)} training, {len(val_data)} validation, {len(test_data)} test examples\")\n",
    "    \n",
    "    train_dataset =TrainingDataset(train_data, tokenizer)\n",
    "    val_dataset =TrainingDataset(val_data, tokenizer)\n",
    "    test_dataset =TrainingDataset(test_data, tokenizer)\n",
    "    \n",
    "    return {\n",
    "        \"train\": train_dataset,\n",
    "        \"validation\": val_dataset,\n",
    "        \"test\": test_dataset\n",
    "    }"
   ],
   "id": "efa22d5890c00092",
   "outputs": [],
   "execution_count": 4
  },
  {
   "metadata": {
    "ExecuteTime": {
     "end_time": "2025-05-07T16:26:25.944028Z",
     "start_time": "2025-05-07T16:26:25.939856Z"
    }
   },
   "cell_type": "code",
   "source": [
    "from transformers import TrainerCallback\n",
    "\n",
    "\n",
    "class GPUMonitorCallback(TrainerCallback):\n",
    "    def on_step_end(self, args, state, control, **kwargs):\n",
    "        if torch.cuda.is_available() and state.global_step % 10 == 0: \n",
    "            print(f\"Step {state.global_step}: GPU Memory: {torch.cuda.memory_allocated() / 1e9:.2f} GB\")\n"
   ],
   "id": "e1625408d94898e4",
   "outputs": [],
   "execution_count": 5
  },
  {
   "metadata": {
    "ExecuteTime": {
     "end_time": "2025-05-07T16:26:25.956588Z",
     "start_time": "2025-05-07T16:26:25.949202Z"
    }
   },
   "cell_type": "code",
   "source": [
    "def data_collator(features):\n",
    "    batch = {\n",
    "        'input_ids': torch.stack([f['input_ids'] for f in features]),\n",
    "        'attention_mask': torch.stack([f['attention_mask'] for f in features]),\n",
    "        'labels': torch.stack([f['labels'] for f in features])\n",
    "    }\n",
    "    return batch\n"
   ],
   "id": "99e05defd19d06e4",
   "outputs": [],
   "execution_count": 6
  },
  {
   "metadata": {
    "ExecuteTime": {
     "end_time": "2025-05-07T16:26:26.002514Z",
     "start_time": "2025-05-07T16:26:25.992532Z"
    }
   },
   "cell_type": "code",
   "source": [
    "def train_model(\n",
    "            data,\n",
    "            model_name=\"google/gemma-3-1b-it\",\n",
    "            rank=16,\n",
    "            quant=4,\n",
    "            output_dir=\"./models\",\n",
    "            num_epochs=5,\n",
    "            learning_rate=2e-4,\n",
    "            batch_size=4\n",
    "):\n",
    "        \"\"\"\n",
    "        Traing model\n",
    "        :param data: \n",
    "        :param rank: \n",
    "        :param quant: \n",
    "        :param output_dir: \n",
    "        :param num_epochs: \n",
    "        :param learning_rate: \n",
    "        :param batch_size: \n",
    "        :return: \n",
    "        \"\"\"\n",
    "        model,tokenizer=setup_model_With_lora(model_name,quant,rank=rank)\n",
    "        print(f\"Model loaded with LoRA rank={rank}, quantization={quant}\")\n",
    "        print(\"Model loaded\")\n",
    "        if model:\n",
    "            print(\"Model loaded\")\n",
    "        else:\n",
    "            print(\"Model not loaded\")\n",
    "        # set up dataset\n",
    "        datasets = prepare_historical_datasets(data, tokenizer)\n",
    "        \n",
    "        training_args = TrainingArguments(\n",
    "        output_dir=f\"{output_dir}_r{rank}_{quant}\",\n",
    "        per_device_train_batch_size=batch_size,\n",
    "        per_device_eval_batch_size=batch_size,\n",
    "        gradient_accumulation_steps=4,\n",
    "        learning_rate=learning_rate,\n",
    "        num_train_epochs=num_epochs,\n",
    "        logging_steps=10,\n",
    "        save_steps=100,\n",
    "        eval_steps=100,\n",
    "        eval_strategy=\"steps\",\n",
    "        save_total_limit=2,\n",
    "        fp16=True,\n",
    "        load_best_model_at_end=True,\n",
    "        metric_for_best_model=\"eval_loss\",\n",
    "        report_to=\"tensorboard\",\n",
    "        remove_unused_columns=False,\n",
    "        dataloader_pin_memory=False,  # CRITICAL: Disable pin memory\n",
    "     )\n",
    "        \n",
    "        trainer = Trainer(\n",
    "        model=model,\n",
    "        args=training_args,\n",
    "        train_dataset=datasets[\"train\"],\n",
    "        eval_dataset=datasets[\"validation\"], \n",
    "        data_collator=data_collator,\n",
    "        callbacks=[GPUMonitorCallback]\n",
    "    )\n",
    "        print(f\"Starting training with LoRA rank={rank}, quantization={quant}\")\n",
    "        trainer.train()\n",
    "        test_results = trainer.evaluate(datasets[\"test\"])\n",
    "        print(f\"Test set evaluation: {test_results}\")\n",
    "        model.save_pretrained(f\"{output_dir}_r{rank}_{quant}_final\")\n",
    "        return model, tokenizer, test_results\n",
    "    "
   ],
   "id": "7d6616dbb9f06e6c",
   "outputs": [],
   "execution_count": 7
  },
  {
   "metadata": {
    "ExecuteTime": {
     "end_time": "2025-05-07T16:26:26.135099Z",
     "start_time": "2025-05-07T16:26:26.008630Z"
    }
   },
   "cell_type": "code",
   "source": [
    "# Complete GPU memory cleanup\n",
    "import torch\n",
    "import gc\n",
    "\n",
    "gc.collect()\n",
    "\n",
    "torch.cuda.empty_cache()\n",
    "\n",
    "torch.cuda.reset_peak_memory_stats()\n",
    "\n",
    "model = None\n",
    "    \n",
    "def clear_gpu_memory():\n",
    "    gc.collect()\n",
    "    torch.cuda.empty_cache()\n",
    "    for obj in gc.get_objects():\n",
    "        try:\n",
    "            if torch.is_tensor(obj) or (hasattr(obj, 'data') and torch.is_tensor(obj.data)):\n",
    "                print(f\"Clearing tensor of size: {obj.size()}\")\n",
    "                del obj\n",
    "        except:\n",
    "            pass\n",
    "    gc.collect()\n",
    "    torch.cuda.empty_cache()"
   ],
   "id": "ca180099c1ab7143",
   "outputs": [],
   "execution_count": 8
  },
  {
   "metadata": {
    "ExecuteTime": {
     "end_time": "2025-05-13T03:48:17.050444Z",
     "start_time": "2025-05-13T03:48:17.043935Z"
    }
   },
   "cell_type": "code",
   "source": [
    "import json\n",
    "import pandas as pd\n",
    "with open('data/extensive.json', 'r', encoding='utf-8') as f:\n",
    "    data_examples = json.load(f)\n",
    "\n",
    "print(f\"Loaded {len(data_examples)} examples from JSON file\")\n",
    "\n",
    "# model, tokenizer, test_results = train_model(\n",
    "#     data=data_examples,\n",
    "#     model_name=\"google/gemma-3-4b-it\",\n",
    "#     rank=4,\n",
    "#     quant=4,\n",
    "#     num_epochs=2,  \n",
    "#     batch_size=2  \n",
    "# )"
   ],
   "id": "94549a8f852dc5a2",
   "outputs": [
    {
     "name": "stdout",
     "output_type": "stream",
     "text": [
      "Loaded 36 examples from JSON file\n"
     ]
    }
   ],
   "execution_count": 2
  },
  {
   "metadata": {},
   "cell_type": "code",
   "outputs": [],
   "execution_count": null,
   "source": "",
   "id": "6242cab96a832271"
  }
 ],
 "metadata": {
  "kernelspec": {
   "display_name": "Python 3",
   "language": "python",
   "name": "python3"
  },
  "language_info": {
   "codemirror_mode": {
    "name": "ipython",
    "version": 2
   },
   "file_extension": ".py",
   "mimetype": "text/x-python",
   "name": "python",
   "nbconvert_exporter": "python",
   "pygments_lexer": "ipython2",
   "version": "2.7.6"
  }
 },
 "nbformat": 4,
 "nbformat_minor": 5
}
